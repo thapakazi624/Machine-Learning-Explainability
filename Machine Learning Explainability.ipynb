{
 "cells": [
  {
   "cell_type": "markdown",
   "id": "0f5c3e43",
   "metadata": {},
   "source": [
    "# Setup"
   ]
  },
  {
   "cell_type": "code",
   "execution_count": 5,
   "id": "dc32dfd5",
   "metadata": {},
   "outputs": [
    {
     "ename": "ModuleNotFoundError",
     "evalue": "No module named 'pdpbox'",
     "output_type": "error",
     "traceback": [
      "\u001b[1;31m---------------------------------------------------------------------------\u001b[0m",
      "\u001b[1;31mModuleNotFoundError\u001b[0m                       Traceback (most recent call last)",
      "Input \u001b[1;32mIn [5]\u001b[0m, in \u001b[0;36m<cell line: 11>\u001b[1;34m()\u001b[0m\n\u001b[0;32m      9\u001b[0m \u001b[38;5;28;01mimport\u001b[39;00m \u001b[38;5;21;01mgraphviz\u001b[39;00m\n\u001b[0;32m     10\u001b[0m \u001b[38;5;28;01mfrom\u001b[39;00m \u001b[38;5;21;01mmatplotlib\u001b[39;00m \u001b[38;5;28;01mimport\u001b[39;00m pyplot \u001b[38;5;28;01mas\u001b[39;00m plt\n\u001b[1;32m---> 11\u001b[0m \u001b[38;5;28;01mfrom\u001b[39;00m \u001b[38;5;21;01mpdpbox\u001b[39;00m \u001b[38;5;28;01mimport\u001b[39;00m pdp, get_dataset, info_plots\n",
      "\u001b[1;31mModuleNotFoundError\u001b[0m: No module named 'pdpbox'"
     ]
    }
   ],
   "source": [
    "import numpy as np\n",
    "import pandas as pd\n",
    "from sklearn.model_selection import train_test_split\n",
    "from sklearn.ensemble import RandomForestClassifier\n",
    "from sklearn.tree import DecisionTreeClassifier\n",
    "import eli5\n",
    "from eli5.sklearn import PermutationImportance\n",
    "from sklearn import tree\n",
    "import graphviz\n",
    "from matplotlib import pyplot as plt\n",
    "from pdpbox import pdp, get_dataset, info_plots"
   ]
  },
  {
   "cell_type": "markdown",
   "id": "065292c5",
   "metadata": {},
   "source": [
    "# Data"
   ]
  },
  {
   "cell_type": "code",
   "execution_count": null,
   "id": "f1f875f8",
   "metadata": {},
   "outputs": [],
   "source": [
    "fifa_data = pd.read_csv('FIFA 2018 Statistics.csv')\n",
    "fifa_data.head()"
   ]
  },
  {
   "cell_type": "code",
   "execution_count": null,
   "id": "a723de79",
   "metadata": {},
   "outputs": [],
   "source": [
    "# target\n",
    "y = (fifa_data['Man of the Match']=='Yes')\n",
    "y"
   ]
  },
  {
   "cell_type": "code",
   "execution_count": null,
   "id": "003271f8",
   "metadata": {},
   "outputs": [],
   "source": [
    "#Features\n",
    "feature_names = [i for i in fifa_data.columns\n",
    "                if fifa_data[i].dtype in [np.int64]]\n",
    "X = fifa_data[feature_names]\n",
    "X.head()"
   ]
  },
  {
   "cell_type": "code",
   "execution_count": null,
   "id": "8227ca43",
   "metadata": {},
   "outputs": [],
   "source": [
    "# train and test data\n",
    "X_train, X_test, y_train, y_test = train_test_split(X,y, random_state=1)"
   ]
  },
  {
   "cell_type": "code",
   "execution_count": null,
   "id": "6bf46d8e",
   "metadata": {},
   "outputs": [],
   "source": [
    "# model\n",
    "model = RandomForestClassifier(n_estimators=100, random_state=0).fit(X_train, y_train)"
   ]
  },
  {
   "cell_type": "code",
   "execution_count": null,
   "id": "3687a2ac",
   "metadata": {},
   "outputs": [],
   "source": [
    "perm = PermutationImportance(model, random_state=1).fit(X_test, y_test)\n",
    "eli5.show_weights(perm, feature_names = X_test.columns.tolist())"
   ]
  },
  {
   "cell_type": "markdown",
   "id": "e91275ac",
   "metadata": {},
   "source": [
    "Here we can see Goal Scored is the most important feature"
   ]
  },
  {
   "cell_type": "markdown",
   "id": "fdc803ee",
   "metadata": {},
   "source": [
    "# Partial Plots"
   ]
  },
  {
   "cell_type": "code",
   "execution_count": null,
   "id": "331ec037",
   "metadata": {},
   "outputs": [],
   "source": [
    "# defining tree model\n",
    "tree_model = DecisionTreeClassifier(random_state=0, max_depth=5, \n",
    "                                    min_samples_split=5).fit(X_train, y_train)"
   ]
  },
  {
   "cell_type": "markdown",
   "id": "35754d06",
   "metadata": {},
   "source": [
    "## plotting tree graphs"
   ]
  },
  {
   "cell_type": "code",
   "execution_count": null,
   "id": "6e5a7929",
   "metadata": {},
   "outputs": [],
   "source": [
    "tree_graph = tree.export_graphviz(tree_model, out_file=None, feature_names=feature_names)\n",
    "graphviz.Source(tree_graph)"
   ]
  },
  {
   "cell_type": "code",
   "execution_count": null,
   "id": "294c0895",
   "metadata": {},
   "outputs": [],
   "source": []
  },
  {
   "cell_type": "code",
   "execution_count": null,
   "id": "62846e7f",
   "metadata": {},
   "outputs": [],
   "source": []
  }
 ],
 "metadata": {
  "kernelspec": {
   "display_name": "Python 3 (ipykernel)",
   "language": "python",
   "name": "python3"
  },
  "language_info": {
   "codemirror_mode": {
    "name": "ipython",
    "version": 3
   },
   "file_extension": ".py",
   "mimetype": "text/x-python",
   "name": "python",
   "nbconvert_exporter": "python",
   "pygments_lexer": "ipython3",
   "version": "3.10.0"
  }
 },
 "nbformat": 4,
 "nbformat_minor": 5
}
